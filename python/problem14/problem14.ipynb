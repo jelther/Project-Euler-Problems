{
 "cells": [
  {
   "cell_type": "code",
   "execution_count": 6,
   "metadata": {},
   "outputs": [],
   "source": [
    "def collatz(n):        \n",
    "    #even\n",
    "    if (n % 2 == 0):\n",
    "        return n/2\n",
    "    else: #odd\n",
    "        return 3*n + 1        "
   ]
  },
  {
   "cell_type": "code",
   "execution_count": 49,
   "metadata": {},
   "outputs": [
    {
     "name": "stdout",
     "output_type": "stream",
     "text": [
      "837799\n"
     ]
    }
   ],
   "source": [
    "longest_chain = []\n",
    "longest_size = 0\n",
    "final_starting_value = 0\n",
    "\n",
    "lower_bound = 1\n",
    "upper_bound = 1000000\n",
    "\n",
    "for i in xrange(lower_bound,upper_bound + 1):\n",
    "    n = i\n",
    "    \n",
    "    #clear the longest chain\n",
    "    longest_chain = []\n",
    "    \n",
    "    #add the first value to the chain\n",
    "    longest_chain.append(n)    \n",
    "    \n",
    "    #iterate to get the sequence until we reach 1\n",
    "    while (n > 1):\n",
    "        next_number = collatz(n)\n",
    "        longest_chain.append(next_number)        \n",
    "        n = next_number\n",
    "            \n",
    "    #check if this chain is bigger than the previous\n",
    "    if (len(longest_chain) > longest_size):\n",
    "        longest_size = len(longest_chain)    \n",
    "        final_starting_value = longest_chain[0]\n",
    "\n",
    "print final_starting_value"
   ]
  }
 ],
 "metadata": {
  "kernelspec": {
   "display_name": "Python 2",
   "language": "python",
   "name": "python2"
  },
  "language_info": {
   "codemirror_mode": {
    "name": "ipython",
    "version": 2
   },
   "file_extension": ".py",
   "mimetype": "text/x-python",
   "name": "python",
   "nbconvert_exporter": "python",
   "pygments_lexer": "ipython2",
   "version": "2.7.12"
  }
 },
 "nbformat": 4,
 "nbformat_minor": 2
}
