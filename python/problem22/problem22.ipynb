{
 "cells": [
  {
   "cell_type": "code",
   "execution_count": 9,
   "metadata": {},
   "outputs": [
    {
     "name": "stdout",
     "output_type": "stream",
     "text": [
      "871198282\n"
     ]
    }
   ],
   "source": [
    "alphabet = ['A','B','C','D','E','F','G','H','I','J','K','L','M','N','O','P','Q','R','S','T','U','V','W','X','Y','Z']\n",
    "\n",
    "def letternumber(letter):\n",
    "    return alphabet.index(letter) + 1\n",
    "\n",
    "filename = \"p022_names.txt\"\n",
    "\n",
    "f = open(filename,\"r+\")\n",
    "\n",
    "names = sorted([n.replace(\"\\\"\",\"\") for n in f.read().split(\",\")])\n",
    "\n",
    "total = 0\n",
    "line_number = 1\n",
    "for name in names:\n",
    "    total += sum([letternumber(letter) for letter in name]) * line_number        \n",
    "    line_number += 1\n",
    "    \n",
    "print total"
   ]
  }
 ],
 "metadata": {
  "kernelspec": {
   "display_name": "Python 2",
   "language": "python",
   "name": "python2"
  },
  "language_info": {
   "codemirror_mode": {
    "name": "ipython",
    "version": 2
   },
   "file_extension": ".py",
   "mimetype": "text/x-python",
   "name": "python",
   "nbconvert_exporter": "python",
   "pygments_lexer": "ipython2",
   "version": "2.7.12"
  }
 },
 "nbformat": 4,
 "nbformat_minor": 2
}
