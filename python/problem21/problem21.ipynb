{
 "cells": [
  {
   "cell_type": "code",
   "execution_count": 24,
   "metadata": {
    "scrolled": true
   },
   "outputs": [],
   "source": [
    "def sum_divisors(n):    \n",
    "    divisors_found = []    \n",
    "    for i in xrange(1,n):\n",
    "        if (n % i == 0):\n",
    "            divisors_found.append(i)    \n",
    "    return sum(divisors_found)"
   ]
  },
  {
   "cell_type": "code",
   "execution_count": 31,
   "metadata": {},
   "outputs": [
    {
     "name": "stdout",
     "output_type": "stream",
     "text": [
      "[220, 284, 1184, 1210, 2620, 2924, 5020, 5564, 6232, 6368]\n",
      "31626\n"
     ]
    }
   ],
   "source": [
    "amicable_pair = []\n",
    "\n",
    "for a in xrange(1,10000):\n",
    "    b = sum_divisors(a)\n",
    "    if (a == sum_divisors(b) and a != b):\n",
    "        amicable_pair.append(a)       \n",
    "        \n",
    "print amicable_pair\n",
    "print sum(amicable_pair)"
   ]
  }
 ],
 "metadata": {
  "kernelspec": {
   "display_name": "Python 2",
   "language": "python",
   "name": "python2"
  },
  "language_info": {
   "codemirror_mode": {
    "name": "ipython",
    "version": 2
   },
   "file_extension": ".py",
   "mimetype": "text/x-python",
   "name": "python",
   "nbconvert_exporter": "python",
   "pygments_lexer": "ipython2",
   "version": "2.7.12"
  }
 },
 "nbformat": 4,
 "nbformat_minor": 2
}
