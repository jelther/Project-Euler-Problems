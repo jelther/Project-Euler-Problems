{
 "cells": [
  {
   "cell_type": "code",
   "execution_count": 53,
   "metadata": {},
   "outputs": [
    {
     "name": "stdout",
     "output_type": "stream",
     "text": [
      "5537376230\n"
     ]
    }
   ],
   "source": [
    "import operator\n",
    "\n",
    "filename = \"number\"\n",
    "\n",
    "n = []\n",
    "\n",
    "f = open(filename,\"r+\")\n",
    "\n",
    "for line in f:    \n",
    "    n.append(line.splitlines()[0])\n",
    "    \n",
    "total = reduce(operator.add,[int(x) for x in n])\n",
    "\n",
    "print str(total)[0:10]"
   ]
  }
 ],
 "metadata": {
  "kernelspec": {
   "display_name": "Python 2",
   "language": "python",
   "name": "python2"
  },
  "language_info": {
   "codemirror_mode": {
    "name": "ipython",
    "version": 2
   },
   "file_extension": ".py",
   "mimetype": "text/x-python",
   "name": "python",
   "nbconvert_exporter": "python",
   "pygments_lexer": "ipython2",
   "version": "2.7.12"
  }
 },
 "nbformat": 4,
 "nbformat_minor": 2
}
