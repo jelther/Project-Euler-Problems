{
 "cells": [
  {
   "cell_type": "code",
   "execution_count": 14,
   "metadata": {},
   "outputs": [
    {
     "name": "stdout",
     "output_type": "stream",
     "text": [
      "54748\n",
      "92727\n",
      "147475\n"
     ]
    }
   ],
   "source": [
    "import itertools\n",
    "\n",
    "numbers = xrange(1,10)\n",
    "\n",
    "total_sum = 0\n",
    "\n",
    "for (a,b,c,d,e) in itertools.product(numbers,numbers,numbers,numbers,numbers):\n",
    "    \n",
    "    n = int(str(a) + str(b) + str(c) + str(d) + str(e))   \n",
    "    \n",
    "    if (n == a**5 + b**5 + c**5 + d**5 + e**5):        \n",
    "        total_sum += int(str(a) + str(b) + str(c) + str(d) + str(e))\n",
    "        print n\n",
    "        \n",
    "print total_sum\n"
   ]
  },
  {
   "cell_type": "code",
   "execution_count": null,
   "metadata": {},
   "outputs": [
    {
     "name": "stdout",
     "output_type": "stream",
     "text": [
      "54748\n",
      "92727\n",
      "93084\n",
      "194979\n"
     ]
    }
   ],
   "source": [
    "import sys\n",
    "total_sum = 0\n",
    "for i in xrange(10000,sys.maxint):\n",
    "    \n",
    "    partial_number = 0\n",
    "    for x in list(str(i)):\n",
    "        partial_number += int(x)**5\n",
    "                    \n",
    "    if (partial_number == i):\n",
    "        print partial_number\n",
    "        total_sum += partial_number\n",
    "        \n",
    "        \n",
    "print total_sum"
   ]
  }
 ],
 "metadata": {
  "kernelspec": {
   "display_name": "Python 2",
   "language": "python",
   "name": "python2"
  },
  "language_info": {
   "codemirror_mode": {
    "name": "ipython",
    "version": 2
   },
   "file_extension": ".py",
   "mimetype": "text/x-python",
   "name": "python",
   "nbconvert_exporter": "python",
   "pygments_lexer": "ipython2",
   "version": "2.7.12"
  }
 },
 "nbformat": 4,
 "nbformat_minor": 2
}
