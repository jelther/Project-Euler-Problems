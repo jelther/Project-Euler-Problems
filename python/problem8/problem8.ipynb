{
 "cells": [
  {
   "cell_type": "markdown",
   "metadata": {},
   "source": [
    "This is the simplest solution to problem number 8 of Project Euler.\n",
    "This algorithm splits the 1000 number into pieces with length of 13 numbers.\n",
    "For each of them, it calculates the product and compares with the previous maximum detected."
   ]
  },
  {
   "cell_type": "code",
   "execution_count": 17,
   "metadata": {
    "collapsed": true
   },
   "outputs": [],
   "source": [
    "number = ''\n",
    "\n",
    "number = number + '73167176531330624919225119674426574742355349194934'\n",
    "number = number + '96983520312774506326239578318016984801869478851843'\n",
    "number = number + '85861560789112949495459501737958331952853208805511'\n",
    "number = number + '12540698747158523863050715693290963295227443043557'\n",
    "number = number + '66896648950445244523161731856403098711121722383113'\n",
    "number = number + '62229893423380308135336276614282806444486645238749'\n",
    "number = number + '30358907296290491560440772390713810515859307960866'\n",
    "number = number + '70172427121883998797908792274921901699720888093776'\n",
    "number = number + '65727333001053367881220235421809751254540594752243'\n",
    "number = number + '52584907711670556013604839586446706324415722155397'\n",
    "number = number + '53697817977846174064955149290862569321978468622482'\n",
    "number = number + '83972241375657056057490261407972968652414535100474'\n",
    "number = number + '82166370484403199890008895243450658541227588666881'\n",
    "number = number + '16427171479924442928230863465674813919123162824586'\n",
    "number = number + '17866458359124566529476545682848912883142607690042'\n",
    "number = number + '24219022671055626321111109370544217506941658960408'\n",
    "number = number + '07198403850962455444362981230987879927244284909188'\n",
    "number = number + '84580156166097919133875499200524063689912560717606'\n",
    "number = number + '05886116467109405077541002256983155200055935729725'\n",
    "number = number + '71636269561882670428252483600823257530420752963450'"
   ]
  },
  {
   "cell_type": "code",
   "execution_count": 25,
   "metadata": {},
   "outputs": [
    {
     "name": "stdout",
     "output_type": "stream",
     "text": [
      "{'total': 23514624000, 'value': '5576689664895'}\n"
     ]
    }
   ],
   "source": [
    "import operator\n",
    "\n",
    "result = {\n",
    "    'value' : 0,\n",
    "    'total' : 0\n",
    "}\n",
    "\n",
    "step = 13\n",
    "\n",
    "for i in xrange(step,len(number) + 1):\n",
    "            \n",
    "    total = reduce(operator.mul,map(int,list(number[i-step:i])))\n",
    "            \n",
    "    if (max(result['total'],total) == total):\n",
    "        result['total'] = total\n",
    "        result['value'] = number[i-13:i]\n",
    "        \n",
    "print result"
   ]
  }
 ],
 "metadata": {
  "kernelspec": {
   "display_name": "Python 2",
   "language": "python",
   "name": "python2"
  },
  "language_info": {
   "codemirror_mode": {
    "name": "ipython",
    "version": 2
   },
   "file_extension": ".py",
   "mimetype": "text/x-python",
   "name": "python",
   "nbconvert_exporter": "python",
   "pygments_lexer": "ipython2",
   "version": "2.7.12"
  }
 },
 "nbformat": 4,
 "nbformat_minor": 2
}
