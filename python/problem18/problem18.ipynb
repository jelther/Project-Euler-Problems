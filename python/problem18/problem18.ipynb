{
 "cells": [
  {
   "cell_type": "code",
   "execution_count": 70,
   "metadata": {},
   "outputs": [
    {
     "name": "stdout",
     "output_type": "stream",
     "text": [
      "75\n",
      "95\n",
      "47\n",
      "87\n",
      "82\n",
      "75\n",
      "73\n",
      "28\n",
      "83\n",
      "47\n",
      "43\n",
      "73\n",
      "91\n",
      "67\n",
      "98\n",
      "1064\n"
     ]
    }
   ],
   "source": [
    "filename = \"triangle.txt\"\n",
    "\n",
    "f = open(filename,\"r+\")\n",
    "\n",
    "total = 0\n",
    "\n",
    "#will store the position of the maximum value in the line\n",
    "index = 0\n",
    "\n",
    "#get the first pyramid value\n",
    "total = [int(x) for x in f.readline().split()][0]\n",
    "print total\n",
    "\n",
    "#since it's only one value, the position will start with 0\n",
    "current_index = 0 \n",
    "\n",
    "# loop through the lines\n",
    "for line in f:\n",
    "    \n",
    "    # transform the line into a list of integers\n",
    "    cleaned_list = [int(x) for x in line.split()]\n",
    "    \n",
    "    # get the maxium value between index and index + 1 (adjacent positions)\n",
    "    maximum_value_now = max(cleaned_list[current_index],cleaned_list[current_index + 1])\n",
    "    \n",
    "    print maximum_value_now\n",
    "    \n",
    "    # stores the index to the next iteration        \n",
    "    future_indexes = [ind for (ind,value) in enumerate(cleaned_list) if value == maximum_value_now]\n",
    "        \n",
    "    \n",
    "    # we have more that 2 values in our list with this maximum value\n",
    "    # must return only that which is greater than our previous index                    \n",
    "    if (len(future_indexes) > 1):        \n",
    "        current_index = [i for i in future_indexes if (i >= current_index and i <= current_index + 1)][0]\n",
    "        \n",
    "    else:\n",
    "        #only one occurence of the maximum value        \n",
    "        current_index = future_indexes[0]\n",
    "        \n",
    "    # add the value found to the total sum\n",
    "    total = total + maximum_value_now\n",
    "    \n",
    "print total \n"
   ]
  }
 ],
 "metadata": {
  "kernelspec": {
   "display_name": "Python 2",
   "language": "python",
   "name": "python2"
  },
  "language_info": {
   "codemirror_mode": {
    "name": "ipython",
    "version": 2
   },
   "file_extension": ".py",
   "mimetype": "text/x-python",
   "name": "python",
   "nbconvert_exporter": "python",
   "pygments_lexer": "ipython2",
   "version": "2.7.12"
  }
 },
 "nbformat": 4,
 "nbformat_minor": 2
}
