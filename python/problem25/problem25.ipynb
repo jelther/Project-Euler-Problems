{
 "cells": [
  {
   "cell_type": "code",
   "execution_count": 80,
   "metadata": {
    "collapsed": true
   },
   "outputs": [],
   "source": [
    "# iterative fibonacci\n",
    "def fibonacci(m):\n",
    "    \n",
    "    if (m == 0):\n",
    "        return 0\n",
    "    \n",
    "    # n - 1 term\n",
    "    n1 = 1\n",
    "    \n",
    "    # n - 2 term\n",
    "    n2 = 0\n",
    "    \n",
    "    for i in xrange(0,m - 1):\n",
    "        \n",
    "        # calculate the next term\n",
    "        n = n1 + n2\n",
    "        \n",
    "        # the next n -2 term will be the n -1 \n",
    "        n2 = n1\n",
    "        \n",
    "        # the next n - 1 will be the calculated fibonacci now\n",
    "        n1 = n    \n",
    "    \n",
    "    return n1"
   ]
  },
  {
   "cell_type": "code",
   "execution_count": 81,
   "metadata": {},
   "outputs": [
    {
     "name": "stdout",
     "output_type": "stream",
     "text": [
      "Fibonacci Sequence\n",
      "The number is: 1070066266382758936764980584457396885083683896632151665013235203375314520604694040621889147582489792657804694888177591957484336466672569959512996030461262748092482186144069433051234774442750273781753087579391666192149259186759553966422837148943113074699503439547001985432609723067290192870526447243726117715821825548491120525013201478612965931381792235559657452039506137551467837543229119602129934048260706175397706847068202895486902666185435124521900369480641357447470911707619766945691070098024393439617474103736912503231365532164773697023167755051595173518460579954919410967778373229665796581646513903488154256310184224190259846088000110186255550245493937113651657039447629584714548523425950428582425306083544435428212611008992863795048006894330309773217834864543113205765659868456288616808718693835297350643986297640660000723562917905207051164077614812491885830945940566688339109350944456576357666151619317753792891661581327159616877487983821820492520348473874384736771934512787029218636250627816\n",
      "The Index is 4782\n"
     ]
    }
   ],
   "source": [
    "i = 0\n",
    "n = fibonacci(i)\n",
    "\n",
    "print \"Fibonacci Sequence\"\n",
    "\n",
    "while True:\n",
    "    i = i + 1\n",
    "    n = fibonacci(i)   \n",
    "  \n",
    "    if (len(str(n)) >= 1000):        \n",
    "        break\n",
    "    \n",
    "    \n",
    "    \n",
    "print \"The number is: \" + str(n)\n",
    "print \"The Index is \" + str(i)"
   ]
  }
 ],
 "metadata": {
  "kernelspec": {
   "display_name": "Python 2",
   "language": "python",
   "name": "python2"
  },
  "language_info": {
   "codemirror_mode": {
    "name": "ipython",
    "version": 2
   },
   "file_extension": ".py",
   "mimetype": "text/x-python",
   "name": "python",
   "nbconvert_exporter": "python",
   "pygments_lexer": "ipython2",
   "version": "2.7.12"
  }
 },
 "nbformat": 4,
 "nbformat_minor": 1
}
