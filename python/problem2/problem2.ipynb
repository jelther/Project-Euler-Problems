{
 "cells": [
  {
   "cell_type": "code",
   "execution_count": 2,
   "metadata": {
    "collapsed": true
   },
   "outputs": [],
   "source": [
    "# iterative fibonacci\n",
    "def fibonacci(m):\n",
    "    \n",
    "    if (m == 0):\n",
    "        return 0\n",
    "    \n",
    "    # n - 1 term\n",
    "    n1 = 1\n",
    "    \n",
    "    # n - 2 term\n",
    "    n2 = 0\n",
    "    \n",
    "    for i in xrange(0,m - 1):\n",
    "        \n",
    "        # calculate the next term\n",
    "        n = n1 + n2\n",
    "        \n",
    "        # the next n -2 term will be the n -1 \n",
    "        n2 = n1\n",
    "        \n",
    "        # the next n - 1 will be the calculated fibonacci now\n",
    "        n1 = n    \n",
    "    \n",
    "    return n1"
   ]
  },
  {
   "cell_type": "code",
   "execution_count": 10,
   "metadata": {},
   "outputs": [
    {
     "name": "stdout",
     "output_type": "stream",
     "text": [
      "Sum of even fibonacci numbers below 4000000: 4613732\n"
     ]
    }
   ],
   "source": [
    "total = 0\n",
    "\n",
    "i = 0\n",
    "while True:    \n",
    "    f = fibonacci(i)\n",
    "    \n",
    "    if (f >= 4000000):\n",
    "        break\n",
    "    \n",
    "    if (f % 2 != 0):\n",
    "        total += f\n",
    "        \n",
    "    i += 1\n",
    "        \n",
    "print \"Sum of even fibonacci numbers below 4000000: \" + str(total)"
   ]
  }
 ],
 "metadata": {
  "kernelspec": {
   "display_name": "Python 2",
   "language": "python",
   "name": "python2"
  },
  "language_info": {
   "codemirror_mode": {
    "name": "ipython",
    "version": 2
   },
   "file_extension": ".py",
   "mimetype": "text/x-python",
   "name": "python",
   "nbconvert_exporter": "python",
   "pygments_lexer": "ipython2",
   "version": "2.7.12"
  }
 },
 "nbformat": 4,
 "nbformat_minor": 2
}
