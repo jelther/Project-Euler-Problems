{
 "cells": [
  {
   "cell_type": "code",
   "execution_count": 3,
   "metadata": {},
   "outputs": [
    {
     "name": "stdout",
     "output_type": "stream",
     "text": [
      "[1, 2, 5]\n"
     ]
    }
   ],
   "source": [
    "def divisors(n):\n",
    "    r = []\n",
    "    for i in xrange(1,n):\n",
    "        if (n % i == 0):\n",
    "            r.append(i)\n",
    "            \n",
    "    return r\n",
    "        \n",
    "        \n",
    "print divisors(10)"
   ]
  },
  {
   "cell_type": "code",
   "execution_count": 6,
   "metadata": {},
   "outputs": [
    {
     "name": "stdout",
     "output_type": "stream",
     "text": [
      "97861532\n"
     ]
    }
   ],
   "source": [
    "upper_bound = 28123\n",
    "\n",
    "abundant_numbers = []\n",
    "for a in xrange(1,upper_bound + 1):\n",
    "    sum_divisors = sum(divisors(a))\n",
    "    \n",
    "    if (sum_divisors > a):\n",
    "        abundant_numbers.append(a)\n",
    "                \n",
    "print sum(abundant_numbers)"
   ]
  }
 ],
 "metadata": {
  "kernelspec": {
   "display_name": "Python 2",
   "language": "python",
   "name": "python2"
  },
  "language_info": {
   "codemirror_mode": {
    "name": "ipython",
    "version": 2
   },
   "file_extension": ".py",
   "mimetype": "text/x-python",
   "name": "python",
   "nbconvert_exporter": "python",
   "pygments_lexer": "ipython2",
   "version": "2.7.12"
  }
 },
 "nbformat": 4,
 "nbformat_minor": 2
}
